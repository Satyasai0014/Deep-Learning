{
 "cells": [
  {
   "cell_type": "markdown",
   "id": "b11aad49",
   "metadata": {},
   "source": [
    "## BUILD THE NEURAL NETWORK"
   ]
  },
  {
   "cell_type": "markdown",
   "id": "eb30167e",
   "metadata": {},
   "source": [
    "* Neural networks comprise of layers/modules that perform operations on data.\n",
    "* The torch.nn namespace provides all the building blocks you need to build your own neural network.\n",
    "* Every module in PyTorch subclasses the nn.Module. A neural network is a module itself that consists of other modules (layers)."
   ]
  },
  {
   "cell_type": "code",
   "execution_count": 1,
   "id": "ed27d336",
   "metadata": {},
   "outputs": [],
   "source": [
    "# Importing the required libraries\n",
    "import os\n",
    "import torch\n",
    "from torch import nn\n",
    "from torch.utils.data import DataLoader\n",
    "from torchvision import datasets, transforms"
   ]
  },
  {
   "cell_type": "code",
   "execution_count": 5,
   "id": "eee5835f",
   "metadata": {},
   "outputs": [
    {
     "name": "stdout",
     "output_type": "stream",
     "text": [
      "Using cpu device\n"
     ]
    }
   ],
   "source": [
    "device = (\n",
    "    \"cuda\"\n",
    "    if torch.cuda.is_available()\n",
    "    else \"mps\"\n",
    "    if torch.backends.mps.is_available()\n",
    "    else \"cpu\"\n",
    ")\n",
    "print(f\"Using {device} device\")"
   ]
  },
  {
   "cell_type": "markdown",
   "id": "14129b25",
   "metadata": {},
   "source": [
    "### Define the Class\n",
    "\n",
    "* We can define our neural network by subclassing \" *nn.nodule* \" , and initialize the neural network layers in *_ _ init _ _*.\n",
    "\n",
    "* Every *nn.Module* subclass implements the operations on input data in the forward method"
   ]
  },
  {
   "cell_type": "code",
   "execution_count": 6,
   "id": "2f696185",
   "metadata": {},
   "outputs": [],
   "source": [
    "# Building the neural network\n",
    "class NeuralNetwork(nn.Module):\n",
    "    def __init__(self):\n",
    "        super().__init__()\n",
    "        self.flatten = nn.Flatten()\n",
    "        self.linear_relu_stack = nn.Sequential(\n",
    "            nn.Linear(28*28, 512),\n",
    "            nn.ReLU(),\n",
    "            nn.Linear(512, 512),\n",
    "            nn.ReLU(),\n",
    "            nn.Linear(512, 10),\n",
    "        )\n",
    "\n",
    "    def forward(self, x):\n",
    "        x = self.flatten(x)\n",
    "        logits = self.linear_relu_stack(x)\n",
    "        return logits"
   ]
  },
  {
   "cell_type": "code",
   "execution_count": 4,
   "id": "b233dfc9",
   "metadata": {},
   "outputs": [
    {
     "name": "stdout",
     "output_type": "stream",
     "text": [
      "NeuralNetwork(\n",
      "  (flatten): Flatten(start_dim=1, end_dim=-1)\n",
      "  (linear_relu_stack): Sequential(\n",
      "    (0): Linear(in_features=784, out_features=512, bias=True)\n",
      "    (1): ReLU()\n",
      "    (2): Linear(in_features=512, out_features=512, bias=True)\n",
      "    (3): ReLU()\n",
      "    (4): Linear(in_features=512, out_features=10, bias=True)\n",
      "  )\n",
      ")\n"
     ]
    }
   ],
   "source": [
    "#Printing the model\n",
    "model = NeuralNetwork().to(device)\n",
    "print(model)"
   ]
  },
  {
   "cell_type": "code",
   "execution_count": null,
   "id": "c7389dc3",
   "metadata": {},
   "outputs": [],
   "source": []
  },
  {
   "attachments": {
    "image.png": {
     "image/png": "[encoded data removed]"
    }
   },
   "cell_type": "markdown",
   "id": "d7e5483d",
   "metadata": {},
   "source": [
    "![image.png](attachment:image.png)"
   ]
  },
  {
   "cell_type": "markdown",
   "id": "58537090",
   "metadata": {},
   "source": [
    "* Calling the model on the input returns a 2-dimensional tensor with dim=0 corresponding to each output of 10 raw predicted values for each class, and dim=1 corresponding to the individual values of each output. We get the prediction probabilities by passing it through an instance of the nn.Softmax module."
   ]
  },
  {
   "cell_type": "code",
   "execution_count": 16,
   "id": "09f9fa04",
   "metadata": {},
   "outputs": [
    {
     "name": "stdout",
     "output_type": "stream",
     "text": [
      "Predicted class: tensor([4])\n"
     ]
    }
   ],
   "source": [
    "X = torch.rand(1, 28, 28, device=device)\n",
    "logits = model(X)\n",
    "pred_probab = nn.Softmax(dim=1)(logits)\n",
    "y_pred = pred_probab.argmax(1)\n",
    "print(f\"Predicted class: {y_pred}\")"
   ]
  },
  {
   "cell_type": "markdown",
   "id": "230c6799",
   "metadata": {},
   "source": [
    "### Model Layers"
   ]
  },
  {
   "cell_type": "code",
   "execution_count": 25,
   "id": "76a30be2",
   "metadata": {},
   "outputs": [
    {
     "name": "stdout",
     "output_type": "stream",
     "text": [
      "torch.Size([3, 28, 28])\n"
     ]
    }
   ],
   "source": [
    "\"\"\"Let's take a sample minibatch of 3 images of size 28x28 and see \\\n",
    "what happens to it as we pass it through the network.\"\"\"\n",
    "input_image = torch.rand(3, 28, 28)\n",
    "print(input_image.size())"
   ]
  },
  {
   "cell_type": "markdown",
   "id": "83a4b0c2",
   "metadata": {},
   "source": [
    "### nn.Flatten"
   ]
  },
  {
   "cell_type": "markdown",
   "id": "0d5d8757",
   "metadata": {},
   "source": [
    "* The nn.Flatten layer to convert each 2D 28x28 image into a contiguous array of 784 pixel values"
   ]
  },
  {
   "cell_type": "code",
   "execution_count": 18,
   "id": "6216bec2",
   "metadata": {},
   "outputs": [
    {
     "name": "stdout",
     "output_type": "stream",
     "text": [
      "torch.Size([3, 784])\n"
     ]
    }
   ],
   "source": [
    "flatten = nn.Flatten()\n",
    "flat_image = flatten(input_image)\n",
    "\n",
    "print(flat_image.size())"
   ]
  },
  {
   "cell_type": "markdown",
   "id": "8b83bbd4",
   "metadata": {},
   "source": [
    "### nn.Linear"
   ]
  },
  {
   "cell_type": "markdown",
   "id": "b8723d9d",
   "metadata": {},
   "source": [
    "* The linear layer is a module that applies a linear transformation on the input using its stored weights and biases."
   ]
  },
  {
   "cell_type": "code",
   "execution_count": 19,
   "id": "0984f072",
   "metadata": {},
   "outputs": [
    {
     "name": "stdout",
     "output_type": "stream",
     "text": [
      "torch.Size([3, 20])\n"
     ]
    }
   ],
   "source": [
    "layer1 = nn.Linear(in_features= 28*28, out_features= 20)\n",
    "hidden1 = layer1(flat_image)\n",
    "print(hidden1.size())"
   ]
  },
  {
   "cell_type": "markdown",
   "id": "12df7b85",
   "metadata": {},
   "source": [
    "### nn.ReLU"
   ]
  },
  {
   "cell_type": "markdown",
   "id": "af2e3c36",
   "metadata": {},
   "source": [
    "* Non-linear activations are what create the complex mappings between the model’s inputs and outputs.\n",
    "* They are applied after linear transformations to introduce nonlinearity, helping neural networks learn a wide variety of phenomena.\n"
   ]
  },
  {
   "cell_type": "code",
   "execution_count": 26,
   "id": "a01a31c8",
   "metadata": {},
   "outputs": [
    {
     "name": "stdout",
     "output_type": "stream",
     "text": [
      "Before ReLU: tensor([[0.0000, 0.0764, 0.0000, 0.0216, 0.0000, 0.0000, 0.2955, 0.0000, 0.0000,\n",
      "         0.0000, 0.0347, 0.1142, 0.9000, 0.1665, 0.4208, 0.0000, 0.0000, 0.0000,\n",
      "         0.2259, 0.0000],\n",
      "        [0.0000, 0.3291, 0.0000, 0.1994, 0.0000, 0.0000, 0.5223, 0.0000, 0.0000,\n",
      "         0.0000, 0.0000, 0.0380, 1.0507, 0.0000, 0.5918, 0.0000, 0.0000, 0.1582,\n",
      "         0.0000, 0.0000],\n",
      "        [0.0000, 0.2757, 0.0000, 0.0881, 0.0000, 0.0000, 0.2017, 0.0000, 0.2426,\n",
      "         0.1458, 0.0000, 0.0000, 0.6195, 0.1184, 0.6142, 0.0000, 0.0000, 0.0000,\n",
      "         0.0000, 0.0000]], grad_fn=<ReluBackward0>)\n",
      "\n",
      "\n",
      "After ReLU: tensor([[0.0000, 0.0764, 0.0000, 0.0216, 0.0000, 0.0000, 0.2955, 0.0000, 0.0000,\n",
      "         0.0000, 0.0347, 0.1142, 0.9000, 0.1665, 0.4208, 0.0000, 0.0000, 0.0000,\n",
      "         0.2259, 0.0000],\n",
      "        [0.0000, 0.3291, 0.0000, 0.1994, 0.0000, 0.0000, 0.5223, 0.0000, 0.0000,\n",
      "         0.0000, 0.0000, 0.0380, 1.0507, 0.0000, 0.5918, 0.0000, 0.0000, 0.1582,\n",
      "         0.0000, 0.0000],\n",
      "        [0.0000, 0.2757, 0.0000, 0.0881, 0.0000, 0.0000, 0.2017, 0.0000, 0.2426,\n",
      "         0.1458, 0.0000, 0.0000, 0.6195, 0.1184, 0.6142, 0.0000, 0.0000, 0.0000,\n",
      "         0.0000, 0.0000]], grad_fn=<ReluBackward0>)\n"
     ]
    }
   ],
   "source": [
    "\"\"\"In this model, we use nn.ReLU between our linear layers, \n",
    "but there’s other activations to introduce non-linearity in your model.\"\"\"\n",
    "print(f\"Before ReLU: {hidden1}\\n\\n\")\n",
    "hidden1 = nn.ReLU()(hidden1)\n",
    "print(f\"After ReLU: {hidden1}\")"
   ]
  },
  {
   "cell_type": "markdown",
   "id": "5b7c3745",
   "metadata": {},
   "source": [
    "### nn.Sequential"
   ]
  },
  {
   "cell_type": "markdown",
   "id": "4febf193",
   "metadata": {},
   "source": [
    "* nn.Sequential is an ordered container of modules. The data is passed through all the modules in the same order as defined. You can use sequential containers to put together a quick network like seq_modules."
   ]
  },
  {
   "cell_type": "code",
   "execution_count": 21,
   "id": "7fc2fa23",
   "metadata": {},
   "outputs": [],
   "source": [
    "seq_modules = nn.Sequential(flatten, layer1, nn.ReLU(), nn.Linear(20, 10))\n",
    "input_image = torch.rand(3, 28, 28)\n",
    "logits = seq_modules(input_image)"
   ]
  },
  {
   "cell_type": "markdown",
   "id": "afdd5504",
   "metadata": {},
   "source": [
    "### nn.Softmax"
   ]
  },
  {
   "cell_type": "markdown",
   "id": "91d1cf22",
   "metadata": {},
   "source": [
    "* The last linear layer of the neural network returns logits - raw values in [-infty, infty] - which are passed to the nn.Softmax module.\n",
    "* The logits are scaled to values [0, 1] representing the model’s predicted probabilities for each class. \n",
    "* dim parameter indicates the dimension along which the values must sum to 1."
   ]
  },
  {
   "cell_type": "code",
   "execution_count": 23,
   "id": "6bd4a351",
   "metadata": {},
   "outputs": [],
   "source": [
    "softmax = nn.Softmax(dim= 1)\n",
    "pred_probab = softmax(logits)"
   ]
  },
  {
   "cell_type": "markdown",
   "id": "be358b29",
   "metadata": {},
   "source": [
    "### Model Parameters"
   ]
  },
  {
   "cell_type": "markdown",
   "id": "6d7ead23",
   "metadata": {},
   "source": [
    "* Many layers inside a neural network are parameterized, i.e. have associated weights and biases that are optimized during training. Subclassing nn.Module automatically tracks all fields defined inside your model object, and makes all parameters accessible using your model’s parameters() or named_parameters() methods."
   ]
  },
  {
   "cell_type": "code",
   "execution_count": 24,
   "id": "7284dc80",
   "metadata": {},
   "outputs": [
    {
     "name": "stdout",
     "output_type": "stream",
     "text": [
      "Model Parameters: NeuralNetwork(\n",
      "  (flatten): Flatten(start_dim=1, end_dim=-1)\n",
      "  (linear_relu_stack): Sequential(\n",
      "    (0): Linear(in_features=784, out_features=512, bias=True)\n",
      "    (1): ReLU()\n",
      "    (2): Linear(in_features=512, out_features=512, bias=True)\n",
      "    (3): ReLU()\n",
      "    (4): Linear(in_features=512, out_features=10, bias=True)\n",
      "  )\n",
      ")\n",
      "\n",
      "\n",
      "Layer: linear_relu_stack.0.weight | Size: torch.Size([512, 784]) | Values: tensor([[-0.0275,  0.0012, -0.0021,  ...,  0.0006, -0.0114, -0.0076],\n",
      "        [ 0.0230, -0.0134, -0.0311,  ...,  0.0189, -0.0330, -0.0188]],\n",
      "       grad_fn=<SliceBackward0>) \n",
      "\n",
      "Layer: linear_relu_stack.0.bias | Size: torch.Size([512]) | Values: tensor([ 0.0141, -0.0096], grad_fn=<SliceBackward0>) \n",
      "\n",
      "Layer: linear_relu_stack.2.weight | Size: torch.Size([512, 512]) | Values: tensor([[-0.0365, -0.0426, -0.0323,  ..., -0.0174,  0.0030,  0.0379],\n",
      "        [-0.0076,  0.0141, -0.0114,  ..., -0.0063,  0.0183, -0.0058]],\n",
      "       grad_fn=<SliceBackward0>) \n",
      "\n",
      "Layer: linear_relu_stack.2.bias | Size: torch.Size([512]) | Values: tensor([0.0205, 0.0348], grad_fn=<SliceBackward0>) \n",
      "\n",
      "Layer: linear_relu_stack.4.weight | Size: torch.Size([10, 512]) | Values: tensor([[-0.0264,  0.0354, -0.0399,  ..., -0.0044,  0.0313,  0.0150],\n",
      "        [-0.0372,  0.0380, -0.0439,  ...,  0.0420,  0.0261,  0.0375]],\n",
      "       grad_fn=<SliceBackward0>) \n",
      "\n",
      "Layer: linear_relu_stack.4.bias | Size: torch.Size([10]) | Values: tensor([-0.0378,  0.0318], grad_fn=<SliceBackward0>) \n",
      "\n"
     ]
    }
   ],
   "source": [
    "print(f\"Model Parameters: {model}\\n\\n\")\n",
    "\n",
    "for name, param in model.named_parameters():\n",
    "  print(f\"Layer: {name} | Size: {param.size()} | Values: {param[:2]} \\n\")"
   ]
  },
  {
   "cell_type": "code",
   "execution_count": null,
   "id": "cf208c44",
   "metadata": {},
   "outputs": [],
   "source": []
  }
 ],
 "metadata": {
  "kernelspec": {
   "display_name": "Python 3 (ipykernel)",
   "language": "python",
   "name": "python3"
  },
  "language_info": {
   "codemirror_mode": {
    "name": "ipython",
    "version": 3
   },
   "file_extension": ".py",
   "mimetype": "text/x-python",
   "name": "python",
   "nbconvert_exporter": "python",
   "pygments_lexer": "ipython3",
   "version": "3.11.4"
  }
 },
 "nbformat": 4,
 "nbformat_minor": 5
}
