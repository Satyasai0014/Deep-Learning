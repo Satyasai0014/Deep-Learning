{
 "cells": [
  {
   "cell_type": "markdown",
   "id": "219c76d1",
   "metadata": {},
   "source": [
    "## Author: Akula Venkata Satya Sai Gopinadh\n",
    "\n",
    "## Reg No: 22228\n",
    "## Date:19-07-2023\n",
    "\n",
    "# $$ Assignment-3 $$\n",
    "\n",
    "## $$ Topic - Transforms $$"
   ]
  },
  {
   "cell_type": "markdown",
   "id": "8d63738a",
   "metadata": {},
   "source": [
    "### ToTensor()\n",
    "\n",
    "* ToTensor() converts a PIL image or NumPy *ndarray* into a *FloatTensor*. and scales the image's pixel intensity valyes in the range of [0,1]"
   ]
  },
  {
   "cell_type": "markdown",
   "id": "338817e2",
   "metadata": {},
   "source": [
    "* Data does not always come in its final processed form that is required for training machine learning algorithms\n",
    "* *'transforms'* are used to perform some manipulation of the data and make it suitable for training.\n",
    "* In TorchVision we have two parameters :*'transform'* to modify the features & \n",
    "* *'target_transform'* to modify the labels"
   ]
  },
  {
   "cell_type": "code",
   "execution_count": 3,
   "id": "e17f6b95",
   "metadata": {},
   "outputs": [],
   "source": [
    "import torch\n",
    "from torchvision import datasets\n",
    "from torchvision.transforms import ToTensor, Lambda\n",
    "\n",
    "ds = datasets.FashionMNIST(\n",
    "    root=\"data\",\n",
    "    train=True,\n",
    "    download=True,\n",
    "    transform=ToTensor(),\n",
    "    target_transform=Lambda(lambda y: torch.zeros(10, dtype=torch.float).scatter_(0, torch.tensor(y), value=1))\n",
    ")"
   ]
  },
  {
   "cell_type": "markdown",
   "id": "43347153",
   "metadata": {},
   "source": [
    "### Lambda Transforms\n",
    "\n",
    "* Lambda transforms apply any user-defined lambda function.\n",
    "\n",
    "* we define a function to turn the integer into a one-hot encoded tensor. It first creates a zero tensor of size 10 (the number of labels in our dataset) and calls scatter_ which assigns a value=1 on the index as given by the label y."
   ]
  },
  {
   "cell_type": "code",
   "execution_count": 5,
   "id": "9723368e",
   "metadata": {},
   "outputs": [],
   "source": [
    "target_transform = Lambda(lambda y: torch.zeros(\n",
    "    10, dtype=torch.float).scatter_(dim=0, index=torch.tensor(y), value=1))"
   ]
  }
 ],
 "metadata": {
  "kernelspec": {
   "display_name": "Python 3 (ipykernel)",
   "language": "python",
   "name": "python3"
  },
  "language_info": {
   "codemirror_mode": {
    "name": "ipython",
    "version": 3
   },
   "file_extension": ".py",
   "mimetype": "text/x-python",
   "name": "python",
   "nbconvert_exporter": "python",
   "pygments_lexer": "ipython3",
   "version": "3.11.4"
  }
 },
 "nbformat": 4,
 "nbformat_minor": 5
}
