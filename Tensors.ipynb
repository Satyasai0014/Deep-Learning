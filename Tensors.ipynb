{
 "cells": [
  {
   "cell_type": "markdown",
   "id": "ab4d52b2",
   "metadata": {},
   "source": [
    "## Author : Akula Venkata Satya Sai Gopinadh\n",
    "## RegNo: 22228 \n",
    "## Date : 10-07-2023"
   ]
  },
  {
   "cell_type": "code",
   "execution_count": 1,
   "id": "b57adcf8",
   "metadata": {},
   "outputs": [],
   "source": [
    "import numpy as np\n",
    "import torch"
   ]
  },
  {
   "cell_type": "markdown",
   "id": "692563bd",
   "metadata": {},
   "source": [
    "Tensors can be initialized in various ways. Take a look at the following examples:\n",
    "\n",
    "### Directly from data\n",
    "\n",
    "Tensors can be created directly from data. The data type is automatically inferred."
   ]
  },
  {
   "cell_type": "code",
   "execution_count": 2,
   "id": "98ea3b0d",
   "metadata": {},
   "outputs": [
    {
     "data": {
      "text/plain": [
       "tensor([[1, 2],\n",
       "        [3, 4]])"
      ]
     },
     "execution_count": 2,
     "metadata": {},
     "output_type": "execute_result"
    }
   ],
   "source": [
    "data = [[1,2], [3,4]]\n",
    "\n",
    "x_data = torch.tensor(data)\n",
    "x_data"
   ]
  },
  {
   "cell_type": "markdown",
   "id": "dfb5c5dc",
   "metadata": {},
   "source": [
    "### From a NumPy array\n",
    "\n"
   ]
  },
  {
   "cell_type": "code",
   "execution_count": 3,
   "id": "df62ced5",
   "metadata": {},
   "outputs": [
    {
     "data": {
      "text/plain": [
       "tensor([[1, 2],\n",
       "        [3, 4]], dtype=torch.int32)"
      ]
     },
     "execution_count": 3,
     "metadata": {},
     "output_type": "execute_result"
    }
   ],
   "source": [
    "np_array = np.array(data)\n",
    "x_np = torch.from_numpy(np_array)\n",
    "x_np"
   ]
  },
  {
   "cell_type": "markdown",
   "id": "229cd8d5",
   "metadata": {},
   "source": [
    "### From another tensor:\n",
    "\n",
    "The new tensor retains the properties (shape, datatype) of the argument tensor, unless explicitly overridden."
   ]
  },
  {
   "cell_type": "code",
   "execution_count": 4,
   "id": "5fb98808",
   "metadata": {},
   "outputs": [
    {
     "name": "stdout",
     "output_type": "stream",
     "text": [
      " Ones tensor : \n",
      " tensor([[1, 1],\n",
      "        [1, 1]]) \n"
     ]
    }
   ],
   "source": [
    "x_ones = torch.ones_like(x_data)\n",
    "print(f\" Ones tensor : \\n {x_ones} \")\n"
   ]
  },
  {
   "cell_type": "code",
   "execution_count": 5,
   "id": "4436d8c2",
   "metadata": {},
   "outputs": [
    {
     "name": "stdout",
     "output_type": "stream",
     "text": [
      " Random tensor : \n",
      " tensor([[0.1806, 0.4477],\n",
      "        [0.5799, 0.5138]])\n"
     ]
    }
   ],
   "source": [
    "x_rand = torch.rand_like(x_data, dtype=torch.float)\n",
    "print(f\" Random tensor : \\n {x_rand}\")"
   ]
  },
  {
   "cell_type": "markdown",
   "id": "77417a3a",
   "metadata": {},
   "source": [
    "### With random or constant values:\n",
    "\n",
    "Shape is a tuple of tensor dimensions. In the functions below, it determines the dimensionality of the output tensor."
   ]
  },
  {
   "cell_type": "code",
   "execution_count": 6,
   "id": "d02e3dde",
   "metadata": {},
   "outputs": [
    {
     "name": "stdout",
     "output_type": "stream",
     "text": [
      "Random Tensor: \n",
      " tensor([[0.3288, 0.2961, 0.1736],\n",
      "        [0.8201, 0.2170, 0.4260]]) \n",
      "\n"
     ]
    }
   ],
   "source": [
    "shape = (2,3)\n",
    "rand_tensor = torch.rand(shape)\n",
    "print(f\"Random Tensor: \\n {rand_tensor} \\n\")"
   ]
  },
  {
   "cell_type": "code",
   "execution_count": 7,
   "id": "e47f8a46",
   "metadata": {},
   "outputs": [
    {
     "name": "stdout",
     "output_type": "stream",
     "text": [
      "Ones Tensor: \n",
      " tensor([[1., 1., 1.],\n",
      "        [1., 1., 1.]]) \n",
      "\n"
     ]
    }
   ],
   "source": [
    "ones_tensor = torch.ones(shape)\n",
    "print(f\"Ones Tensor: \\n {ones_tensor} \\n\")"
   ]
  },
  {
   "cell_type": "code",
   "execution_count": 8,
   "id": "16861492",
   "metadata": {},
   "outputs": [
    {
     "name": "stdout",
     "output_type": "stream",
     "text": [
      "Zeros Tensor: \n",
      " tensor([[0., 0., 0.],\n",
      "        [0., 0., 0.]])\n"
     ]
    }
   ],
   "source": [
    "zeros_tensor = torch.zeros(shape)\n",
    "print(f\"Zeros Tensor: \\n {zeros_tensor}\")"
   ]
  },
  {
   "cell_type": "markdown",
   "id": "95c24230",
   "metadata": {},
   "source": [
    "### Attributes of a Tensor\n",
    "\n",
    "Tensor attributes describe their shape, datatype, and the device on which they are stored.\n"
   ]
  },
  {
   "cell_type": "code",
   "execution_count": 9,
   "id": "84d140d4",
   "metadata": {},
   "outputs": [
    {
     "name": "stdout",
     "output_type": "stream",
     "text": [
      "Shape of tensor: torch.Size([3, 4])\n"
     ]
    }
   ],
   "source": [
    "tensor = torch.rand(3,4)\n",
    "\n",
    "print(f\"Shape of tensor: {tensor.shape}\")"
   ]
  },
  {
   "cell_type": "code",
   "execution_count": 10,
   "id": "b555100c",
   "metadata": {},
   "outputs": [
    {
     "name": "stdout",
     "output_type": "stream",
     "text": [
      "Datatype of tensor: torch.float32\n"
     ]
    }
   ],
   "source": [
    "print(f\"Datatype of tensor: {tensor.dtype}\")"
   ]
  },
  {
   "cell_type": "code",
   "execution_count": 11,
   "id": "9f3f6d1e",
   "metadata": {},
   "outputs": [
    {
     "name": "stdout",
     "output_type": "stream",
     "text": [
      "Device tensor is stored on: cpu\n"
     ]
    }
   ],
   "source": [
    "print(f\"Device tensor is stored on: {tensor.device}\")"
   ]
  },
  {
   "cell_type": "code",
   "execution_count": 12,
   "id": "44b9fd0a",
   "metadata": {},
   "outputs": [],
   "source": [
    "if torch.cuda.is_available():\n",
    "    tensor = tensor.to(\"cuda\")"
   ]
  },
  {
   "cell_type": "markdown",
   "id": "10115c71",
   "metadata": {},
   "source": [
    "### Standard numpy-like indexing and slicing:"
   ]
  },
  {
   "cell_type": "code",
   "execution_count": 23,
   "id": "446a1f16",
   "metadata": {},
   "outputs": [],
   "source": [
    "tensor = torch.ones(4, 4) #Matrix of order 4*4"
   ]
  },
  {
   "cell_type": "code",
   "execution_count": 17,
   "id": "aeaf983b",
   "metadata": {},
   "outputs": [
    {
     "name": "stdout",
     "output_type": "stream",
     "text": [
      "First row: tensor([1., 1., 1., 1.])\n"
     ]
    }
   ],
   "source": [
    "print(f\"First row: {tensor[0]}\") # taking First row using indexing"
   ]
  },
  {
   "cell_type": "code",
   "execution_count": 18,
   "id": "d71b1950",
   "metadata": {},
   "outputs": [
    {
     "name": "stdout",
     "output_type": "stream",
     "text": [
      "First column: tensor([1., 1., 1., 1.])\n"
     ]
    }
   ],
   "source": [
    "print(f\"First column: {tensor[:, 0]}\") # Taking first column using slicing."
   ]
  },
  {
   "cell_type": "code",
   "execution_count": 19,
   "id": "f2ae636e",
   "metadata": {},
   "outputs": [
    {
     "name": "stdout",
     "output_type": "stream",
     "text": [
      "Last column: tensor([1., 1., 1., 1.])\n"
     ]
    }
   ],
   "source": [
    "print(f\"Last column: {tensor[..., -1]}\") #getting last-column of the 4*4matrix."
   ]
  },
  {
   "cell_type": "code",
   "execution_count": 20,
   "id": "0d51fbf1",
   "metadata": {},
   "outputs": [
    {
     "name": "stdout",
     "output_type": "stream",
     "text": [
      "tensor([[1., 0., 1., 1.],\n",
      "        [1., 0., 1., 1.],\n",
      "        [1., 0., 1., 1.],\n",
      "        [1., 0., 1., 1.]])\n"
     ]
    }
   ],
   "source": [
    "tensor[:,1] = 0 \n",
    "print(tensor)"
   ]
  },
  {
   "cell_type": "code",
   "execution_count": 22,
   "id": "59ead6f3",
   "metadata": {},
   "outputs": [
    {
     "name": "stdout",
     "output_type": "stream",
     "text": [
      "tensor([[1., 0., 1., 1., 1., 0., 1., 1., 1., 0., 1., 1.],\n",
      "        [1., 0., 1., 1., 1., 0., 1., 1., 1., 0., 1., 1.],\n",
      "        [1., 0., 1., 1., 1., 0., 1., 1., 1., 0., 1., 1.],\n",
      "        [1., 0., 1., 1., 1., 0., 1., 1., 1., 0., 1., 1.]])\n"
     ]
    }
   ],
   "source": [
    "t1 = torch.cat([tensor, tensor, tensor], dim=1) #Joining tensors You can use torch.cat\n",
    "#to concatenate a sequence of tensors along a given dimension\n",
    "print(t1)"
   ]
  },
  {
   "cell_type": "markdown",
   "id": "883f40cf",
   "metadata": {},
   "source": [
    "### Arithmetic Operations"
   ]
  },
  {
   "cell_type": "code",
   "execution_count": 38,
   "id": "b9e72456",
   "metadata": {},
   "outputs": [
    {
     "data": {
      "text/plain": [
       "tensor([[4., 4., 4., 4.],\n",
       "        [4., 4., 4., 4.],\n",
       "        [4., 4., 4., 4.],\n",
       "        [4., 4., 4., 4.]])"
      ]
     },
     "execution_count": 38,
     "metadata": {},
     "output_type": "execute_result"
    }
   ],
   "source": [
    "# Matrix Multiplication.\n",
    "#y1, y2, y3 will have the same value\n",
    "y1 = tensor @ tensor.T # tensor.T gives the Transpose of the tensor.\n",
    "y2 = tensor.matmul(tensor.T)\n",
    "y3 = torch.rand_like(y1)\n",
    "\n",
    "torch.matmul(tensor, tensor.T, out=y3)"
   ]
  },
  {
   "cell_type": "code",
   "execution_count": 36,
   "id": "f3f60791",
   "metadata": {},
   "outputs": [
    {
     "data": {
      "text/plain": [
       "tensor([[1., 1., 1., 1.],\n",
       "        [1., 1., 1., 1.],\n",
       "        [1., 1., 1., 1.],\n",
       "        [1., 1., 1., 1.]])"
      ]
     },
     "execution_count": 36,
     "metadata": {},
     "output_type": "execute_result"
    }
   ],
   "source": [
    "#his computes the element-wise product.\n",
    "#z1, z2, z3 will have the same value\n",
    "\n",
    "z1 = tensor * tensor\n",
    "z2 = tensor.mul(tensor)\n",
    "z3 = torch.rand_like(tensor)\n",
    "\n",
    "torch.mul(tensor, tensor , out=z3)"
   ]
  },
  {
   "cell_type": "markdown",
   "id": "8a7b633a",
   "metadata": {},
   "source": [
    "#### *Single-element tensors* if we have a one-element tensor.\n"
   ]
  },
  {
   "cell_type": "code",
   "execution_count": 40,
   "id": "9491672e",
   "metadata": {},
   "outputs": [
    {
     "name": "stdout",
     "output_type": "stream",
     "text": [
      "16.0\n",
      "<class 'float'>\n"
     ]
    }
   ],
   "source": [
    "\"\"\"Like Aggregating all values of a tensor into one value\n",
    "and can convert it into a Python numerical value using Item().\"\"\"\n",
    "agg = tensor.sum()\n",
    "agg_item = agg.item()\n",
    "print(agg_item)\n",
    "print(type(agg_item))"
   ]
  },
  {
   "cell_type": "markdown",
   "id": "fae4fd2d",
   "metadata": {},
   "source": [
    "### Inplace Operations"
   ]
  },
  {
   "cell_type": "code",
   "execution_count": 46,
   "id": "51948499",
   "metadata": {},
   "outputs": [
    {
     "name": "stdout",
     "output_type": "stream",
     "text": [
      "tensor([[17., 17., 17., 17.],\n",
      "        [17., 17., 17., 17.],\n",
      "        [17., 17., 17., 17.],\n",
      "        [17., 17., 17., 17.]])\n",
      "\n"
     ]
    }
   ],
   "source": [
    "print(f\"{tensor}\\n\")"
   ]
  },
  {
   "cell_type": "code",
   "execution_count": 47,
   "id": "62d07c36",
   "metadata": {},
   "outputs": [
    {
     "name": "stdout",
     "output_type": "stream",
     "text": [
      "tensor([[21., 21., 21., 21.],\n",
      "        [21., 21., 21., 21.],\n",
      "        [21., 21., 21., 21.],\n",
      "        [21., 21., 21., 21.]])\n"
     ]
    }
   ],
   "source": [
    "tensor.add_(4) # _ is the inplace operator.\n",
    "print(tensor)"
   ]
  },
  {
   "cell_type": "markdown",
   "id": "b472f45c",
   "metadata": {},
   "source": [
    "### Tensor --> NumPy array"
   ]
  },
  {
   "cell_type": "code",
   "execution_count": 48,
   "id": "c59a32f5",
   "metadata": {},
   "outputs": [
    {
     "name": "stdout",
     "output_type": "stream",
     "text": [
      "t : tensor([1., 1., 1.])\n"
     ]
    }
   ],
   "source": [
    "t = torch.ones(3)\n",
    "print(f\"t : {t}\")"
   ]
  },
  {
   "cell_type": "code",
   "execution_count": 49,
   "id": "8e234aad",
   "metadata": {},
   "outputs": [
    {
     "name": "stdout",
     "output_type": "stream",
     "text": [
      "n : [1. 1. 1.]\n"
     ]
    }
   ],
   "source": [
    "n = t.numpy()\n",
    "print(f\"n : {n}\")"
   ]
  },
  {
   "cell_type": "code",
   "execution_count": 51,
   "id": "9cbc99d4",
   "metadata": {},
   "outputs": [
    {
     "name": "stdout",
     "output_type": "stream",
     "text": [
      "t : tensor([2., 2., 2.])\n",
      "n : [2. 2. 2.]\n"
     ]
    }
   ],
   "source": [
    "#A change in the tensor reflects in the NumPy array.\n",
    "\n",
    "t.add_(1)\n",
    "\n",
    "print(f\"t : {t}\")\n",
    "print(f\"n : {n}\")"
   ]
  },
  {
   "cell_type": "markdown",
   "id": "63913f42",
   "metadata": {},
   "source": [
    "### NumPy array --> Tensor"
   ]
  },
  {
   "cell_type": "code",
   "execution_count": 61,
   "id": "191d25ed",
   "metadata": {},
   "outputs": [
    {
     "data": {
      "text/plain": [
       "tensor([1., 1., 1., 1., 1.], dtype=torch.float64)"
      ]
     },
     "execution_count": 61,
     "metadata": {},
     "output_type": "execute_result"
    }
   ],
   "source": [
    "n = np.ones(5) # Using ones array\n",
    "t = torch.from_numpy(n)\n",
    "t"
   ]
  },
  {
   "cell_type": "code",
   "execution_count": 62,
   "id": "1660a247",
   "metadata": {},
   "outputs": [
    {
     "name": "stdout",
     "output_type": "stream",
     "text": [
      "t : tensor([2., 2., 2., 2., 2.], dtype=torch.float64)\n",
      "n : [2. 2. 2. 2. 2.]\n"
     ]
    }
   ],
   "source": [
    "#A change in the NumPy array reflects in the tensor.\n",
    "np.add(n, 1, out=n)\n",
    "\n",
    "print(f\"t : {t}\")\n",
    "print(f\"n : {n}\")\n"
   ]
  },
  {
   "cell_type": "code",
   "execution_count": 70,
   "id": "1230a1f0",
   "metadata": {},
   "outputs": [
    {
     "data": {
      "text/plain": [
       "tensor([0.3368, 0.4274, 0.4783], dtype=torch.float64)"
      ]
     },
     "execution_count": 70,
     "metadata": {},
     "output_type": "execute_result"
    }
   ],
   "source": [
    "n = np.random.rand(3) # taking random array\n",
    "\n",
    "t = torch.from_numpy(n)\n",
    "t"
   ]
  },
  {
   "cell_type": "code",
   "execution_count": 71,
   "id": "0c9c0bc1",
   "metadata": {},
   "outputs": [
    {
     "name": "stdout",
     "output_type": "stream",
     "text": [
      " t : tensor([0.2118, 0.3024, 0.3533], dtype=torch.float64)\n",
      " n : [0.21180627 0.30241057 0.35333763]\n"
     ]
    }
   ],
   "source": [
    "np.subtract(n, 0.125, out =n)\n",
    "\n",
    "print(f\" t : {t}\")\n",
    "print(f\" n : {n}\")"
   ]
  }
 ],
 "metadata": {
  "kernelspec": {
   "display_name": "Python 3 (ipykernel)",
   "language": "python",
   "name": "python3"
  },
  "language_info": {
   "codemirror_mode": {
    "name": "ipython",
    "version": 3
   },
   "file_extension": ".py",
   "mimetype": "text/x-python",
   "name": "python",
   "nbconvert_exporter": "python",
   "pygments_lexer": "ipython3",
   "version": "3.11.4"
  }
 },
 "nbformat": 4,
 "nbformat_minor": 5
}
